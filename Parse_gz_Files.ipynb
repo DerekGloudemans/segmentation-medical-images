{
  "nbformat": 4,
  "nbformat_minor": 0,
  "metadata": {
    "colab": {
      "name": "Parse .gz Files",
      "provenance": [],
      "authorship_tag": "ABX9TyM14GiFKGYXl5b8D3mHJemR",
      "include_colab_link": true
    },
    "kernelspec": {
      "name": "python3",
      "display_name": "Python 3"
    }
  },
  "cells": [
    {
      "cell_type": "markdown",
      "metadata": {
        "id": "view-in-github",
        "colab_type": "text"
      },
      "source": [
        "<a href=\"https://colab.research.google.com/github/DerekGloudemans/segmentation-medical-images/blob/master/Parse_gz_Files.ipynb\" target=\"_parent\"><img src=\"https://colab.research.google.com/assets/colab-badge.svg\" alt=\"Open In Colab\"/></a>"
      ]
    },
    {
      "cell_type": "code",
      "metadata": {
        "id": "h0LI0YQ9F8XL",
        "colab_type": "code",
        "colab": {
          "base_uri": "https://localhost:8080/",
          "height": 126
        },
        "outputId": "54dca119-616d-48a6-d160-0449dc9b0024"
      },
      "source": [
        "# Mount drive\n",
        "from google.colab import drive\n",
        "drive.mount('/content/drive',force_remount=True)"
      ],
      "execution_count": 1,
      "outputs": [
        {
          "output_type": "stream",
          "text": [
            "Go to this URL in a browser: https://accounts.google.com/o/oauth2/auth?client_id=947318989803-6bn6qk8qdgf4n4g3pfee6491hc0brc4i.apps.googleusercontent.com&redirect_uri=urn%3aietf%3awg%3aoauth%3a2.0%3aoob&response_type=code&scope=email%20https%3a%2f%2fwww.googleapis.com%2fauth%2fdocs.test%20https%3a%2f%2fwww.googleapis.com%2fauth%2fdrive%20https%3a%2f%2fwww.googleapis.com%2fauth%2fdrive.photos.readonly%20https%3a%2f%2fwww.googleapis.com%2fauth%2fpeopleapi.readonly\n",
            "\n",
            "Enter your authorization code:\n",
            "··········\n",
            "Mounted at /content/drive\n"
          ],
          "name": "stdout"
        }
      ]
    },
    {
      "cell_type": "code",
      "metadata": {
        "id": "mcM4Q3eeHWY5",
        "colab_type": "code",
        "colab": {}
      },
      "source": [
        "import os\n",
        "import gzip\n",
        "import shutil"
      ],
      "execution_count": 0,
      "outputs": []
    },
    {
      "cell_type": "code",
      "metadata": {
        "id": "HVbjHOcWJYZJ",
        "colab_type": "code",
        "colab": {}
      },
      "source": [
        "#extract training data\n",
        "path = \"/content/drive/My Drive/Colab Notebooks/Segmentation/train_data_segmentation\"\n",
        "for file in os.listdir(path):\n",
        "  print(file)\n",
        "  file = os.path.join(path,file)\n",
        "\n",
        "  with gzip.open(file, 'rb') as f_in:\n",
        "      with open(file[:-3], 'wb') as f_out:\n",
        "          shutil.copyfileobj(f_in, f_out)"
      ],
      "execution_count": 0,
      "outputs": []
    },
    {
      "cell_type": "code",
      "metadata": {
        "id": "DzbrcTqcKYa_",
        "colab_type": "code",
        "colab": {}
      },
      "source": [
        "#extract training labels\n",
        "path = \"/content/drive/My Drive/Colab Notebooks/Segmentation/train_labels_segmentation\"\n",
        "for file in os.listdir(path):\n",
        "  print(file)\n",
        "  file = os.path.join(path,file)\n",
        "\n",
        "  with gzip.open(file, 'rb') as f_in:\n",
        "      with open(file[:-3], 'wb') as f_out:\n",
        "          shutil.copyfileobj(f_in, f_out)"
      ],
      "execution_count": 0,
      "outputs": []
    }
  ]
}